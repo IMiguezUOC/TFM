{
 "cells": [
  {
   "cell_type": "code",
   "execution_count": 3,
   "id": "330aeb0d-d5d9-4ca8-afb4-ec189c87623a",
   "metadata": {},
   "outputs": [],
   "source": [
    "import pandas as pd\n",
    "import numpy as np\n",
    "import zipfile\n",
    "import gdown\n",
    "import os"
   ]
  },
  {
   "cell_type": "markdown",
   "id": "04042156-4307-4499-b8f8-b332f1c470ea",
   "metadata": {},
   "source": [
    "# Descarga"
   ]
  },
  {
   "cell_type": "code",
   "execution_count": 2,
   "id": "82b47544-09f7-415b-b8ec-6cb462188abb",
   "metadata": {},
   "outputs": [],
   "source": [
    "data_url = 'https://drive.google.com/uc?id=1qB5dPWZMi2-12sLHDykHb9i6GibbJ46l&confirm=t&uuid=7b142ec9-01d0-4f33-b79f-a1088a266174'\n",
    "data_dir = '../TFM'\n",
    "zip_file = os.path.join('../TFM','SolarPanelSoilingImageDataset.zip')\n",
    "\n",
    "if not os.path.isfile('SolarPanelSoilingImageDataset.zip'):\n",
    "    gdown.download(data_url, quiet=False) "
   ]
  },
  {
   "cell_type": "markdown",
   "id": "86096afa-55e2-4b8a-ad18-e386db4df3bf",
   "metadata": {},
   "source": [
    "# Descompresión"
   ]
  },
  {
   "cell_type": "code",
   "execution_count": 3,
   "id": "c759c2a2-b19d-45a0-b6e8-cdd3d06f92b0",
   "metadata": {},
   "outputs": [],
   "source": [
    "# Descomprimir el archivo\n",
    "with zipfile.ZipFile(zip_file, 'r') as zip_object:\n",
    "    zip_object.extractall(path=data_dir)"
   ]
  },
  {
   "cell_type": "markdown",
   "id": "ca533f03-62d2-49da-9ea3-015e36d1ed9d",
   "metadata": {},
   "source": [
    "# Generación y comprobación del dataframe con las etiquetas de las imagenes"
   ]
  },
  {
   "cell_type": "code",
   "execution_count": 4,
   "id": "549e93dc-7e1f-4d81-b6e0-eb972210cca8",
   "metadata": {},
   "outputs": [
    {
     "name": "stdout",
     "output_type": "stream",
     "text": [
      "                                            filename\n",
      "0  solar_Fri_Jun_16_10__0__11_2017_L_0.9061532083...\n",
      "1  solar_Fri_Jun_16_10__0__16_2017_L_0.9030816970...\n",
      "2  solar_Fri_Jun_16_10__0__1_2017_L_0.91669804403...\n",
      "3  solar_Fri_Jun_16_10__0__21_2017_L_0.9030816970...\n",
      "4  solar_Fri_Jun_16_10__0__26_2017_L_0.8960873911...\n",
      "                                                 filename\n",
      "count                                               45754\n",
      "unique                                              45754\n",
      "top     solar_Fri_Jun_16_10__0__11_2017_L_0.9061532083...\n",
      "freq                                                    1\n"
     ]
    }
   ],
   "source": [
    "# Ruta al directorio que contiene las imágenes\n",
    "data_dir = '../TFM/Solar_Panel_Soiling_Image_dataset/PanelImages'\n",
    "\n",
    "# Obtén la lista de archivos en el directorio\n",
    "file_list = os.listdir(data_dir)\n",
    "\n",
    "# Crear un DataFrame para almacenar información del nombre del archivo\n",
    "df = pd.DataFrame(file_list, columns=['filename'])\n",
    "\n",
    "# Visualizar las primeras filas del DataFrame\n",
    "print(df.head())\n",
    "\n",
    "# Visualizar información estadística sobre el DataFrame\n",
    "print(df.describe())"
   ]
  },
  {
   "cell_type": "markdown",
   "id": "9cccc042-528f-4b13-a849-b1cea7b79886",
   "metadata": {},
   "source": [
    "# Procesado de los datos de las etiquetas"
   ]
  },
  {
   "cell_type": "code",
   "execution_count": 7,
   "id": "c4116e55-27ab-4375-a0e1-53cf77878a69",
   "metadata": {},
   "outputs": [
    {
     "name": "stdout",
     "output_type": "stream",
     "text": [
      "solar_Fri_Jun_16_10__0__11_2017_L_0.906153208302_I_0.321592156863.jpg\n"
     ]
    }
   ],
   "source": [
    "# Comprobar formato del label\n",
    "print(df['filename'][0])"
   ]
  },
  {
   "cell_type": "code",
   "execution_count": 8,
   "id": "c5830cf4-847b-421b-b010-bba139b7a865",
   "metadata": {},
   "outputs": [
    {
     "data": {
      "text/plain": [
       "['solar',\n",
       " 'Fri',\n",
       " 'Jun',\n",
       " '16',\n",
       " '10',\n",
       " '',\n",
       " '0',\n",
       " '',\n",
       " '11',\n",
       " '2017',\n",
       " 'L',\n",
       " '0.906153208302',\n",
       " 'I',\n",
       " '0.321592156863.jpg']"
      ]
     },
     "execution_count": 8,
     "metadata": {},
     "output_type": "execute_result"
    }
   ],
   "source": [
    "# Dividir label por \"_\" y comprobar\n",
    "df['filename'][0].split(\"_\")"
   ]
  },
  {
   "cell_type": "code",
   "execution_count": 21,
   "id": "c1c63404-e29f-4654-aa1b-1d516c0d697f",
   "metadata": {},
   "outputs": [],
   "source": [
    "# Guardar datos\n",
    "solar = df['filename'].apply(lambda x: x.split(\"_\")[0])\n",
    "day_of_week = df['filename'].apply(lambda x: x.split(\"_\")[1])\n",
    "month = df['filename'].apply(lambda x: x.split(\"_\")[2])\n",
    "day = df['filename'].apply(lambda x: x.split(\"_\")[3])\n",
    "hour = df['filename'].apply(lambda x: x.split(\"_\")[4])\n",
    "time_log = df['filename'].apply(lambda x: x.split(\"_\")[4] + \":\" +\n",
    "                            x.split(\"_\")[6] + \":\" + x.split(\"_\")[8])\n",
    "minutes = df['filename'].apply(lambda x: x.split(\"_\")[6])\n",
    "seconds = df['filename'].apply(lambda x: x.split(\"_\")[8])\n",
    "year = df['filename'].apply(lambda x: x.split(\"_\")[9])\n",
    "loss = df['filename'].apply(lambda x: x.split(\"_\")[11])\n",
    "irradiation = df['filename'].apply(lambda x: x.split(\"_\")[13].replace(\".jpg\", \"\"))\n",
    "\n",
    "# Añadir las listas al dataframe\n",
    "df['solar']       = solar\n",
    "df['day_of_week'] = day_of_week\n",
    "df['month']       = month\n",
    "df['day']         = day\n",
    "df['hour']        = hour\n",
    "df['min']         = minutes\n",
    "df['sec']         = seconds\n",
    "df['time']        = df['hour'].astype('int')*3600 + df['min'].astype('int')*60 + df['sec'].astype('int')\n",
    "df['year']        = year\n",
    "df['date']        = year + \"-\" + month + \"-\" + day + \" \" + time_log\n",
    "df['loss']        = loss\n",
    "df['irradiation'] = irradiation"
   ]
  },
  {
   "cell_type": "code",
   "execution_count": 25,
   "id": "c109c224-f258-4e9f-94fd-7ff6c8ccff57",
   "metadata": {},
   "outputs": [],
   "source": [
    "df = df.sort_values(by='date')"
   ]
  },
  {
   "cell_type": "code",
   "execution_count": 26,
   "id": "278eef58-54a4-49f7-a7bc-ed84fa6b15c0",
   "metadata": {},
   "outputs": [
    {
     "data": {
      "text/html": [
       "<div>\n",
       "<style scoped>\n",
       "    .dataframe tbody tr th:only-of-type {\n",
       "        vertical-align: middle;\n",
       "    }\n",
       "\n",
       "    .dataframe tbody tr th {\n",
       "        vertical-align: top;\n",
       "    }\n",
       "\n",
       "    .dataframe thead th {\n",
       "        text-align: right;\n",
       "    }\n",
       "</style>\n",
       "<table border=\"1\" class=\"dataframe\">\n",
       "  <thead>\n",
       "    <tr style=\"text-align: right;\">\n",
       "      <th></th>\n",
       "      <th>filename</th>\n",
       "      <th>solar</th>\n",
       "      <th>day_of_week</th>\n",
       "      <th>month</th>\n",
       "      <th>day</th>\n",
       "      <th>hour</th>\n",
       "      <th>min</th>\n",
       "      <th>sec</th>\n",
       "      <th>time</th>\n",
       "      <th>year</th>\n",
       "      <th>date</th>\n",
       "      <th>loss</th>\n",
       "      <th>irradiation</th>\n",
       "    </tr>\n",
       "  </thead>\n",
       "  <tbody>\n",
       "    <tr>\n",
       "      <th>25126</th>\n",
       "      <td>solar_Tue_Jun_13_10__0__12_2017_L_0.1507811777...</td>\n",
       "      <td>solar</td>\n",
       "      <td>Tue</td>\n",
       "      <td>Jun</td>\n",
       "      <td>13</td>\n",
       "      <td>10</td>\n",
       "      <td>0</td>\n",
       "      <td>12</td>\n",
       "      <td>36012</td>\n",
       "      <td>2017</td>\n",
       "      <td>2017-Jun-13 10:0:12</td>\n",
       "      <td>0.150781177776</td>\n",
       "      <td>0.169678431373</td>\n",
       "    </tr>\n",
       "    <tr>\n",
       "      <th>25127</th>\n",
       "      <td>solar_Tue_Jun_13_10__0__18_2017_L_0.1507811777...</td>\n",
       "      <td>solar</td>\n",
       "      <td>Tue</td>\n",
       "      <td>Jun</td>\n",
       "      <td>13</td>\n",
       "      <td>10</td>\n",
       "      <td>0</td>\n",
       "      <td>18</td>\n",
       "      <td>36018</td>\n",
       "      <td>2017</td>\n",
       "      <td>2017-Jun-13 10:0:18</td>\n",
       "      <td>0.150781177776</td>\n",
       "      <td>0.169678431373</td>\n",
       "    </tr>\n",
       "    <tr>\n",
       "      <th>25130</th>\n",
       "      <td>solar_Tue_Jun_13_10__0__2_2017_L_0.14720963921...</td>\n",
       "      <td>solar</td>\n",
       "      <td>Tue</td>\n",
       "      <td>Jun</td>\n",
       "      <td>13</td>\n",
       "      <td>10</td>\n",
       "      <td>0</td>\n",
       "      <td>2</td>\n",
       "      <td>36002</td>\n",
       "      <td>2017</td>\n",
       "      <td>2017-Jun-13 10:0:2</td>\n",
       "      <td>0.147209639219</td>\n",
       "      <td>0.170545098039</td>\n",
       "    </tr>\n",
       "    <tr>\n",
       "      <th>25128</th>\n",
       "      <td>solar_Tue_Jun_13_10__0__23_2017_L_0.1544552142...</td>\n",
       "      <td>solar</td>\n",
       "      <td>Tue</td>\n",
       "      <td>Jun</td>\n",
       "      <td>13</td>\n",
       "      <td>10</td>\n",
       "      <td>0</td>\n",
       "      <td>23</td>\n",
       "      <td>36023</td>\n",
       "      <td>2017</td>\n",
       "      <td>2017-Jun-13 10:0:23</td>\n",
       "      <td>0.154455214294</td>\n",
       "      <td>0.167901960784</td>\n",
       "    </tr>\n",
       "    <tr>\n",
       "      <th>25129</th>\n",
       "      <td>solar_Tue_Jun_13_10__0__28_2017_L_0.1544552142...</td>\n",
       "      <td>solar</td>\n",
       "      <td>Tue</td>\n",
       "      <td>Jun</td>\n",
       "      <td>13</td>\n",
       "      <td>10</td>\n",
       "      <td>0</td>\n",
       "      <td>28</td>\n",
       "      <td>36028</td>\n",
       "      <td>2017</td>\n",
       "      <td>2017-Jun-13 10:0:28</td>\n",
       "      <td>0.154455214294</td>\n",
       "      <td>0.167901960784</td>\n",
       "    </tr>\n",
       "  </tbody>\n",
       "</table>\n",
       "</div>"
      ],
      "text/plain": [
       "                                                filename  solar day_of_week  \\\n",
       "25126  solar_Tue_Jun_13_10__0__12_2017_L_0.1507811777...  solar         Tue   \n",
       "25127  solar_Tue_Jun_13_10__0__18_2017_L_0.1507811777...  solar         Tue   \n",
       "25130  solar_Tue_Jun_13_10__0__2_2017_L_0.14720963921...  solar         Tue   \n",
       "25128  solar_Tue_Jun_13_10__0__23_2017_L_0.1544552142...  solar         Tue   \n",
       "25129  solar_Tue_Jun_13_10__0__28_2017_L_0.1544552142...  solar         Tue   \n",
       "\n",
       "      month day hour min sec   time  year                 date  \\\n",
       "25126   Jun  13   10   0  12  36012  2017  2017-Jun-13 10:0:12   \n",
       "25127   Jun  13   10   0  18  36018  2017  2017-Jun-13 10:0:18   \n",
       "25130   Jun  13   10   0   2  36002  2017   2017-Jun-13 10:0:2   \n",
       "25128   Jun  13   10   0  23  36023  2017  2017-Jun-13 10:0:23   \n",
       "25129   Jun  13   10   0  28  36028  2017  2017-Jun-13 10:0:28   \n",
       "\n",
       "                 loss     irradiation  \n",
       "25126  0.150781177776  0.169678431373  \n",
       "25127  0.150781177776  0.169678431373  \n",
       "25130  0.147209639219  0.170545098039  \n",
       "25128  0.154455214294  0.167901960784  \n",
       "25129  0.154455214294  0.167901960784  "
      ]
     },
     "execution_count": 26,
     "metadata": {},
     "output_type": "execute_result"
    }
   ],
   "source": [
    "df.head()"
   ]
  },
  {
   "cell_type": "markdown",
   "id": "0948e9a1-fddc-4928-97c0-858dead287d3",
   "metadata": {},
   "source": [
    "# Conversión en csv del dataframe"
   ]
  },
  {
   "cell_type": "code",
   "execution_count": 27,
   "id": "c76fb716-4fe9-4c90-a55e-2dfd1ef4f924",
   "metadata": {},
   "outputs": [],
   "source": [
    "df.to_csv('image_labels.csv', encoding='utf-8', index=False)"
   ]
  }
 ],
 "metadata": {
  "kernelspec": {
   "display_name": "TFMProject",
   "language": "python",
   "name": "tfm"
  },
  "language_info": {
   "codemirror_mode": {
    "name": "ipython",
    "version": 3
   },
   "file_extension": ".py",
   "mimetype": "text/x-python",
   "name": "python",
   "nbconvert_exporter": "python",
   "pygments_lexer": "ipython3",
   "version": "3.10.0"
  }
 },
 "nbformat": 4,
 "nbformat_minor": 5
}
